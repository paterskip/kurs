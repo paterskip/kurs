{
  "nbformat": 4,
  "nbformat_minor": 0,
  "metadata": {
    "colab": {
      "name": "Fundamenty Pythona.ipynb",
      "provenance": [],
      "authorship_tag": "ABX9TyOzmHcvPD2na4wRdttsWD6d",
      "include_colab_link": true
    },
    "kernelspec": {
      "name": "python3",
      "display_name": "Python 3"
    }
  },
  "cells": [
    {
      "cell_type": "markdown",
      "metadata": {
        "id": "view-in-github",
        "colab_type": "text"
      },
      "source": [
        "<a href=\"https://colab.research.google.com/github/paterskip/kurs/blob/master/Fundamenty_Pythona.ipynb\" target=\"_parent\"><img src=\"https://colab.research.google.com/assets/colab-badge.svg\" alt=\"Open In Colab\"/></a>"
      ]
    },
    {
      "cell_type": "code",
      "metadata": {
        "id": "YJEndebqckPU",
        "colab_type": "code",
        "outputId": "acb2653c-d47a-4607-96fb-0bd63cda69eb",
        "colab": {
          "base_uri": "https://localhost:8080/",
          "height": 35
        }
      },
      "source": [
        "# Declaring a string variable\n",
        "string = \"This is a python tutorial\"\n",
        "print(string)"
      ],
      "execution_count": 0,
      "outputs": [
        {
          "output_type": "stream",
          "text": [
            "This is a python tutorial\n"
          ],
          "name": "stdout"
        }
      ]
    }
  ]
}